{
 "cells": [
  {
   "cell_type": "code",
   "execution_count": 1,
   "metadata": {},
   "outputs": [],
   "source": [
    "import numpy as np"
   ]
  },
  {
   "cell_type": "code",
   "execution_count": 15,
   "metadata": {},
   "outputs": [
    {
     "name": "stdout",
     "output_type": "stream",
     "text": [
      "Class 1 mean:  3.7300000000000004\n",
      "Class 2 mean:  3.25\n"
     ]
    },
    {
     "data": {
      "text/plain": [
       "17.888543819998333"
      ]
     },
     "execution_count": 15,
     "metadata": {},
     "output_type": "execute_result"
    }
   ],
   "source": [
    "class1 = [3.5,3.7,3.9,4.1,3.4,3.5,4.1,3.8,3.6,3.7]\n",
    "class2 = [3.2,3.6,3.1,3.4,3.0,3.4,2.8,3.1,3.3,3.6]\n",
    "\n",
    "print(\"Class 1 mean: \", np.mean(class1))\n",
    "print(\"Class 2 mean: \", np.mean(class2))\n",
    "\n",
    "q = (np.mean(class1) - np.mean(class2)) / np.sqrt((2*0.06*0.06)/10)\n",
    "q"
   ]
  },
  {
   "cell_type": "code",
   "execution_count": 14,
   "metadata": {},
   "outputs": [
    {
     "data": {
      "text/plain": [
       "17.888543819998333"
      ]
     },
     "execution_count": 14,
     "metadata": {},
     "output_type": "execute_result"
    }
   ],
   "source": []
  },
  {
   "cell_type": "code",
   "execution_count": 17,
   "metadata": {},
   "outputs": [
    {
     "name": "stdout",
     "output_type": "stream",
     "text": [
      "N:  12\n",
      "s2:  0.42166666666666663\n",
      "sz:  0.6493586579592718\n"
     ]
    },
    {
     "data": {
      "text/plain": [
       "-0.4400862294233522"
      ]
     },
     "execution_count": 17,
     "metadata": {},
     "output_type": "execute_result"
    }
   ],
   "source": [
    "class1 = [4.5,3.7,3.9,4.1,3.4,3.5,4.1,2.8,2.6,2.7,2.3,2.6]\n",
    "class2 = [3.2,3.6,3.1,3.4,3.0,3.4,2.8,3.1,3.3,3.6,4.5,4.6]\n",
    "N = len(class1)\n",
    "print(\"N: \", N)\n",
    "\n",
    "x1 = np.mean(class1)\n",
    "x2 = np.mean(class2)\n",
    "\n",
    "s2 = (1/((2*N)-2)) * (np.sum((class1-x1)**2) + np.sum((class2-x2)**2))\n",
    "print(\"s2: \", s2)\n",
    "sz = np.sqrt(s2)\n",
    "print('sz: ', sz)\n",
    "\n",
    "q = (x1-x2) / (sz*np.sqrt(2/N))\n",
    "q"
   ]
  },
  {
   "cell_type": "code",
   "execution_count": null,
   "metadata": {},
   "outputs": [],
   "source": []
  }
 ],
 "metadata": {
  "kernelspec": {
   "display_name": "spppt",
   "language": "python",
   "name": "python3"
  },
  "language_info": {
   "codemirror_mode": {
    "name": "ipython",
    "version": 3
   },
   "file_extension": ".py",
   "mimetype": "text/x-python",
   "name": "python",
   "nbconvert_exporter": "python",
   "pygments_lexer": "ipython3",
   "version": "3.8.18"
  }
 },
 "nbformat": 4,
 "nbformat_minor": 2
}
