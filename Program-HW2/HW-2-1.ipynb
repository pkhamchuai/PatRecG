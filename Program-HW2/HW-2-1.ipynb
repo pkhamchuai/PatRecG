{
 "cells": [
  {
   "cell_type": "markdown",
   "metadata": {},
   "source": [
    "# Computer Assignment 2\n",
    "\n",
    "Due Date 21 กันยายน 2566 ก่อนเวลา 23.00 น.\n",
    "\n",
    "ให้ส่งเป็น pdf file ผ่านระบบที่ mango.cmu.ac.th เท่านั้น\n",
    "\n",
    "Note ห้าม ใช้ library หรือ โปรแกรมสำหรับรูปใดๆ ทั้งสิ้น จะต้องเขียนโปรแกรมด้วยตัวเองทั้งหมด ห้าม ลอกงานคนอื่นถ้าลอกกันมา ทั้งคนให้ลอกและคนลอกจะได้รับคะแนนเป็น 0 ทั้งคู่ และให้แนบ program มาในส่วนของภาคผนวกของรายงานด้วย\n",
    "\n",
    "การบ้านนี้มี 2 ข้อ\n",
    "\n",
    "## 2.1 จงทำการทดลองโดยใช้ K-nn และอย่าลืมทำการประเมินประสิทธิภาพของวิธีการนี้ \n",
    "เช่นใช้ 10% cross validation หรือ เปรียบเทียบกับ Bayes (Maximum Likelihood) และอื่นๆ ให้ใช้ dataset ใดก็ได้เช่น TWOCLASS, IRIS (Iris และ TWOCLASS มี format ที่เหมือนกันนั่นคือ f1 f2 f3 f4 class-label), CROSS, ELLIPSE (Cross และ Ellipse มี format ที่เหมือนกันนั่นคือ\n",
    "\n",
    "                                               p#\n",
    "\n",
    "                                               f1 f2\n",
    "\n",
    "                                               0 1        %หมายถึง class 2 ถ้าเป็น 1 0 (class 1))\n",
    "\n",
    "หรือ dataset อื่นๆ ถ้ามี\n",
    "\n",
    "รายงานควรจะประกอบด้วย\n",
    "\n",
    "            1. รายละเอียดของทฤษฎีหรือวิธีการต่างๆที่ใช้\n",
    "\n",
    "            2. การออกแบบ algorithm เช่น pseudo-code, flowchart, ฯลฯ\n",
    "\n",
    "            3. ผลการทดลอง\n",
    "\n",
    "            4. การวิเคราะห์การทดลอง เช่น ได้ผลตามที่คาดไว้หรือไม่ มีสิ่งประหลาดเกิดขึ้นหรือไม่ บทสรุปที่ได้คืออะไร ฯลฯ\n",
    "\n",
    "            5. Well documented, structured, modular program listing"
   ]
  },
  {
   "cell_type": "code",
   "execution_count": null,
   "metadata": {},
   "outputs": [],
   "source": []
  }
 ],
 "metadata": {
  "language_info": {
   "name": "python"
  },
  "orig_nbformat": 4
 },
 "nbformat": 4,
 "nbformat_minor": 2
}
