{
 "cells": [
  {
   "cell_type": "markdown",
   "metadata": {},
   "source": [
    "# Computer Assignment 2\n",
    "\n",
    "Due Date 21 กันยายน 2566 ก่อนเวลา 23.00 น.\n",
    "\n",
    "ให้ส่งเป็น pdf file ผ่านระบบที่ mango.cmu.ac.th เท่านั้น\n",
    "\n",
    "Note ห้าม ใช้ library หรือ โปรแกรมสำหรับรูปใดๆ ทั้งสิ้น จะต้องเขียนโปรแกรมด้วยตัวเองทั้งหมด ห้าม ลอกงานคนอื่นถ้าลอกกันมา ทั้งคนให้ลอกและคนลอกจะได้รับคะแนนเป็น 0 ทั้งคู่ และให้แนบ program มาในส่วนของภาคผนวกของรายงานด้วย\n",
    "\n",
    "การบ้านนี้มี 2 ข้อ\n",
    "\n",
    "## 2.2 จงทำการทดลองโดยใช้ string grammar Hard C-means \n",
    "โดยใช้ data set ของ Copenhagen Chromosome Database ให้ใช้ train data set ในการ train (ชื่อ file จะเป็น difxda เช่น dif1da) และ test data set  (ชื่อ file จะเป็น difxdb เช่น dif1db) ในการ test ข้อมูลของ data set อยู่ที่ http://myweb.cmu.ac.th/sansanee.a/PatRecG/dataset/chrom.zip ทั้งนี้ data set มีจำนวน chromosome ทั้งหมด 2200 chromosome อย่าลืมอ่านคำแนะนำ data set ใน file CopenhagenChromosomeDataset.html ด้วย\n",
    "\n",
    " \n",
    "\n",
    "รายงานควรจะประกอบด้วย\n",
    "\n",
    "            1. รายละเอียดของทฤษฎีหรือวิธีการต่างๆที่ใช้\n",
    "\n",
    "            2. การออกแบบ algorithm เช่น pseudo-code, flowchart, ฯลฯ\n",
    "\n",
    "            3. ผลการทดลอง\n",
    "\n",
    "            4. การวิเคราะห์การทดลอง เช่น ได้ผลตามที่คาดไว้หรือไม่ มีสิ่งประหลาดเกิดขึ้นหรือไม่ บทสรุปที่ได้คืออะไร ฯลฯ\n",
    "\n",
    "            5. Well documented, structured, modular program listing"
   ]
  },
  {
   "cell_type": "code",
   "execution_count": 19,
   "metadata": {},
   "outputs": [],
   "source": [
    "import os\n",
    "import glob\n",
    "import numpy as np"
   ]
  },
  {
   "cell_type": "code",
   "execution_count": 2,
   "metadata": {},
   "outputs": [
    {
     "name": "stdout",
     "output_type": "stream",
     "text": [
      "# of files: 44\n",
      "# of training files: 22\n",
      "# of testing files:  22\n"
     ]
    }
   ],
   "source": [
    "# grab the name of files in the directory 'chrom'\n",
    "# excluding the file with 'html' extension\n",
    "# and store the names in a list\n",
    "\n",
    "chrom_files = glob.glob('chrom/*')\n",
    "chrom_files = [x for x in chrom_files if 'html' not in x]\n",
    "print(f'# of files: {len(chrom_files)}')\n",
    "\n",
    "# files ending with a are training data\n",
    "# files ending with b are testing data\n",
    "\n",
    "# list of training data\n",
    "train_files = [x for x in chrom_files if 'a' in x]\n",
    "print(f'# of training files: {len(train_files)}')\n",
    "\n",
    "# list of testing data\n",
    "test_files = [x for x in chrom_files if 'b' in x]\n",
    "print(f'# of testing files:  {len(test_files)}')"
   ]
  },
  {
   "cell_type": "code",
   "execution_count": 7,
   "metadata": {},
   "outputs": [],
   "source": [
    "# function that reads the contents of a file\n",
    "# and returns a list of lines\n",
    "def read_file(filename):\n",
    "    with open(filename, 'r') as f:\n",
    "        lines = f.readlines()\n",
    "\n",
    "    # for each line, take only the string after '\\t' and before '\\n'\n",
    "    lines = [x.split('\\t')[1].split('\\n')[0] for x in lines]\n",
    "\n",
    "    return lines\n"
   ]
  },
  {
   "cell_type": "code",
   "execution_count": 12,
   "metadata": {},
   "outputs": [
    {
     "name": "stdout",
     "output_type": "stream",
     "text": [
      "# of training data: 2200\n",
      "# of testing data: 2200\n"
     ]
    }
   ],
   "source": [
    "# read all the training data\n",
    "train_data = [read_file(x) for x in train_files]\n",
    "# flatten the list of lists\n",
    "train_data = [item for sublist in train_data for item in sublist]\n",
    "print(f'# of training data: {len(train_data)}')\n",
    "\n",
    "# read all the testing data\n",
    "test_data = [read_file(x) for x in test_files]\n",
    "# flatten the list of lists\n",
    "test_data = [item for sublist in test_data for item in sublist]\n",
    "print(f'# of testing data: {len(test_data)}')"
   ]
  },
  {
   "cell_type": "markdown",
   "metadata": {},
   "source": [
    "# String grammar hard C-means"
   ]
  },
  {
   "cell_type": "code",
   "execution_count": 13,
   "metadata": {},
   "outputs": [],
   "source": [
    "# define Levenshtein distance function\n",
    "def levenshtein_distance(s1, s2):\n",
    "    # if one of the strings is empty, return the length of the other string\n",
    "    if len(s1) == 0:\n",
    "        return len(s2)\n",
    "    if len(s2) == 0:\n",
    "        return len(s1)\n",
    "\n",
    "    # if the last characters of the strings are the same,\n",
    "    # return the distance between the strings without the last character\n",
    "    if s1[-1] == s2[-1]:\n",
    "        return levenshtein_distance(s1[:-1], s2[:-1])\n",
    "\n",
    "    # otherwise, return the minimum of the following:\n",
    "    # 1. distance between s1 and s2 without the last character of s1\n",
    "    # 2. distance between s1 and s2 without the last character of s2\n",
    "    # 3. distance between s1 and s2 without the last character of both s1 and s2\n",
    "    return 1 + min(levenshtein_distance(s1[:-1], s2),\n",
    "                   levenshtein_distance(s1, s2[:-1]),\n",
    "                   levenshtein_distance(s1[:-1], s2[:-1]))\n",
    "\n"
   ]
  },
  {
   "cell_type": "code",
   "execution_count": null,
   "metadata": {},
   "outputs": [],
   "source": [
    "# Example usage:\n",
    "string1 = \"kitten\"\n",
    "string2 = \"sitting\"\n",
    "distance = levenshtein_distance(string1, string2)\n",
    "print(f\"Levenshtein distance between '{string1}' and '{string2}' is {distance}\")"
   ]
  },
  {
   "cell_type": "code",
   "execution_count": 15,
   "metadata": {},
   "outputs": [],
   "source": [
    "def levenshtein_distance(s1, s2):\n",
    "    # Create a matrix to store the distances between substrings of s1 and s2\n",
    "    dp = [[0] * (len(s2) + 1) for _ in range(len(s1) + 1)]\n",
    "\n",
    "    # Initialize the first row and column of the matrix\n",
    "    for i in range(len(s1) + 1):\n",
    "        dp[i][0] = i\n",
    "    for j in range(len(s2) + 1):\n",
    "        dp[0][j] = j\n",
    "\n",
    "    # Fill in the matrix using dynamic programming\n",
    "    for i in range(1, len(s1) + 1):\n",
    "        for j in range(1, len(s2) + 1):\n",
    "            cost = 0 if s1[i - 1] == s2[j - 1] else 1\n",
    "            dp[i][j] = min(\n",
    "                dp[i - 1][j] + 1,  # Deletion\n",
    "                dp[i][j - 1] + 1,  # Insertion\n",
    "                dp[i - 1][j - 1] + cost  # Substitution\n",
    "            )\n",
    "\n",
    "    # The final value in the bottom-right corner of the matrix is the Levenshtein distance\n",
    "    return dp[len(s1)][len(s2)]"
   ]
  },
  {
   "cell_type": "code",
   "execution_count": 16,
   "metadata": {},
   "outputs": [
    {
     "name": "stdout",
     "output_type": "stream",
     "text": [
      "Levenshtein distance between 'kitten' and 'sitting' is 3\n"
     ]
    }
   ],
   "source": [
    "# Example usage:\n",
    "string1 = \"kitten\"\n",
    "string2 = \"sitting\"\n",
    "distance = levenshtein_distance(string1, string2)\n",
    "print(f\"Levenshtein distance between '{string1}' and '{string2}' is {distance}\")"
   ]
  },
  {
   "cell_type": "code",
   "execution_count": 17,
   "metadata": {},
   "outputs": [],
   "source": [
    "class sgHCM:\n",
    "    # first, initial the class with k value\n",
    "    # then, call the class with test sample and train data\n",
    "    def __init__(self, k=3, max_iter=1000, tol=1e-5):\n",
    "        self.k = k\n",
    "        # maximum iteration\n",
    "        self.max_iter = max_iter\n",
    "        # tolerance (epsilon)\n",
    "        self.tol = tol\n",
    "        # first value of tolerance\n",
    "        self.Et = np.inf\n",
    "\n",
    "    def fit(self, train_data):\n",
    "        # randomly select k centroids from train_data\n",
    "        self.centroids = np.random.choice(train_data, size=self.k, replace=False)\n",
    "\n",
    "        # initialize the list of clusters\n",
    "        self.clusters = [[] for _ in range(self.k)]\n",
    "\n",
    "        # initialize the list of old centroids\n",
    "        self.old_centroids = None\n",
    "\n",
    "        # initialize the list of new centroids\n",
    "        self.new_centroids = None\n",
    "\n",
    "        # initialize the list of distances between old and new centroids\n",
    "        self.Et = None\n",
    "\n",
    "        # initialize the number of iterations\n",
    "        self.n_iter = 0\n",
    "\n",
    "        # initialize the list of distances between test sample and each train data\n",
    "        self.distances = None\n",
    "\n",
    "        # initialize the list of predicted labels\n",
    "        self.predicted_label = None\n",
    "\n",
    "\n",
    "\n",
    "\n",
    "    def __call__(self, test_sample):\n",
    "        \n",
    "\n",
    "        return predicted_label\n",
    "\n",
    "    def levenshtein_distance(self, s1, s2):\n",
    "        # Create a matrix to store the distances between substrings of s1 and s2\n",
    "        dp = [[0] * (len(s2) + 1) for _ in range(len(s1) + 1)]\n",
    "\n",
    "        # Initialize the first row and column of the matrix\n",
    "        for i in range(len(s1) + 1):\n",
    "            dp[i][0] = i\n",
    "        for j in range(len(s2) + 1):\n",
    "            dp[0][j] = j\n",
    "\n",
    "        # Fill in the matrix using dynamic programming\n",
    "        for i in range(1, len(s1) + 1):\n",
    "            for j in range(1, len(s2) + 1):\n",
    "                cost = 0 if s1[i - 1] == s2[j - 1] else 1\n",
    "                dp[i][j] = min(\n",
    "                    dp[i - 1][j] + 1,  # Deletion\n",
    "                    dp[i][j - 1] + 1,  # Insertion\n",
    "                    dp[i - 1][j - 1] + cost  # Substitution\n",
    "                )\n",
    "\n",
    "        # The final value in the bottom-right corner of the matrix is the Levenshtein distance\n",
    "        return dp[len(s1)][len(s2)]\n",
    "\n",
    "    def compute_distance(self, test_sample, train_data):\n",
    "        # compute the distance between test_sample and each train data\n",
    "        # return a list of distances\n",
    "        distances = []\n",
    "        for train_sample in train_data:\n",
    "            distance = self.levenshtein_distance(test_sample, train_sample)\n",
    "            distances.append(distance)\n",
    "        return distances\n",
    "    \n",
    "    def compute_tolerance(self, old, new):\n",
    "        # compute the difference between old and new centroids\n",
    "        Et = np.sum(np.abs(old - new))\n",
    "\n",
    "        # return the tolerance\n",
    "        return Et"
   ]
  },
  {
   "cell_type": "code",
   "execution_count": 18,
   "metadata": {},
   "outputs": [
    {
     "ename": "KeyboardInterrupt",
     "evalue": "",
     "output_type": "error",
     "traceback": [
      "\u001b[0;31m---------------------------------------------------------------------------\u001b[0m",
      "\u001b[0;31mKeyboardInterrupt\u001b[0m                         Traceback (most recent call last)",
      "\u001b[1;32m/home/pkhamchuai/codes/PatRecG/Program-HW2/HW-2-2.ipynb Cell 11\u001b[0m line \u001b[0;36m3\n\u001b[1;32m      <a href='vscode-notebook-cell://wsl%2Bubuntu/home/pkhamchuai/codes/PatRecG/Program-HW2/HW-2-2.ipynb#X15sdnNjb2RlLXJlbW90ZQ%3D%3D?line=0'>1</a>\u001b[0m \u001b[39m# apply the classifier to the test data\u001b[39;00m\n\u001b[1;32m      <a href='vscode-notebook-cell://wsl%2Bubuntu/home/pkhamchuai/codes/PatRecG/Program-HW2/HW-2-2.ipynb#X15sdnNjb2RlLXJlbW90ZQ%3D%3D?line=1'>2</a>\u001b[0m classifier \u001b[39m=\u001b[39m sgHCM(k\u001b[39m=\u001b[39m\u001b[39m3\u001b[39m)\n\u001b[0;32m----> <a href='vscode-notebook-cell://wsl%2Bubuntu/home/pkhamchuai/codes/PatRecG/Program-HW2/HW-2-2.ipynb#X15sdnNjb2RlLXJlbW90ZQ%3D%3D?line=2'>3</a>\u001b[0m predictions \u001b[39m=\u001b[39m [classifier(test_sample, train_data) \u001b[39mfor\u001b[39;00m test_sample \u001b[39min\u001b[39;00m test_data]\n\u001b[1;32m      <a href='vscode-notebook-cell://wsl%2Bubuntu/home/pkhamchuai/codes/PatRecG/Program-HW2/HW-2-2.ipynb#X15sdnNjb2RlLXJlbW90ZQ%3D%3D?line=4'>5</a>\u001b[0m \u001b[39m# print the predictions\u001b[39;00m\n\u001b[1;32m      <a href='vscode-notebook-cell://wsl%2Bubuntu/home/pkhamchuai/codes/PatRecG/Program-HW2/HW-2-2.ipynb#X15sdnNjb2RlLXJlbW90ZQ%3D%3D?line=5'>6</a>\u001b[0m \u001b[39mprint\u001b[39m(predictions)\n",
      "\u001b[1;32m/home/pkhamchuai/codes/PatRecG/Program-HW2/HW-2-2.ipynb Cell 11\u001b[0m line \u001b[0;36m3\n\u001b[1;32m      <a href='vscode-notebook-cell://wsl%2Bubuntu/home/pkhamchuai/codes/PatRecG/Program-HW2/HW-2-2.ipynb#X15sdnNjb2RlLXJlbW90ZQ%3D%3D?line=0'>1</a>\u001b[0m \u001b[39m# apply the classifier to the test data\u001b[39;00m\n\u001b[1;32m      <a href='vscode-notebook-cell://wsl%2Bubuntu/home/pkhamchuai/codes/PatRecG/Program-HW2/HW-2-2.ipynb#X15sdnNjb2RlLXJlbW90ZQ%3D%3D?line=1'>2</a>\u001b[0m classifier \u001b[39m=\u001b[39m sgHCM(k\u001b[39m=\u001b[39m\u001b[39m3\u001b[39m)\n\u001b[0;32m----> <a href='vscode-notebook-cell://wsl%2Bubuntu/home/pkhamchuai/codes/PatRecG/Program-HW2/HW-2-2.ipynb#X15sdnNjb2RlLXJlbW90ZQ%3D%3D?line=2'>3</a>\u001b[0m predictions \u001b[39m=\u001b[39m [classifier(test_sample, train_data) \u001b[39mfor\u001b[39;00m test_sample \u001b[39min\u001b[39;00m test_data]\n\u001b[1;32m      <a href='vscode-notebook-cell://wsl%2Bubuntu/home/pkhamchuai/codes/PatRecG/Program-HW2/HW-2-2.ipynb#X15sdnNjb2RlLXJlbW90ZQ%3D%3D?line=4'>5</a>\u001b[0m \u001b[39m# print the predictions\u001b[39;00m\n\u001b[1;32m      <a href='vscode-notebook-cell://wsl%2Bubuntu/home/pkhamchuai/codes/PatRecG/Program-HW2/HW-2-2.ipynb#X15sdnNjb2RlLXJlbW90ZQ%3D%3D?line=5'>6</a>\u001b[0m \u001b[39mprint\u001b[39m(predictions)\n",
      "\u001b[1;32m/home/pkhamchuai/codes/PatRecG/Program-HW2/HW-2-2.ipynb Cell 11\u001b[0m line \u001b[0;36m1\n\u001b[1;32m      <a href='vscode-notebook-cell://wsl%2Bubuntu/home/pkhamchuai/codes/PatRecG/Program-HW2/HW-2-2.ipynb#X15sdnNjb2RlLXJlbW90ZQ%3D%3D?line=8'>9</a>\u001b[0m \u001b[39mdef\u001b[39;00m \u001b[39m__call__\u001b[39m(\u001b[39mself\u001b[39m, test_sample, train_data):\n\u001b[0;32m---> <a href='vscode-notebook-cell://wsl%2Bubuntu/home/pkhamchuai/codes/PatRecG/Program-HW2/HW-2-2.ipynb#X15sdnNjb2RlLXJlbW90ZQ%3D%3D?line=9'>10</a>\u001b[0m     k_nearest_neighbors \u001b[39m=\u001b[39m \u001b[39mself\u001b[39;49m\u001b[39m.\u001b[39;49mcompute_k_nearest_neighbors(test_sample, train_data)\n\u001b[1;32m     <a href='vscode-notebook-cell://wsl%2Bubuntu/home/pkhamchuai/codes/PatRecG/Program-HW2/HW-2-2.ipynb#X15sdnNjb2RlLXJlbW90ZQ%3D%3D?line=10'>11</a>\u001b[0m     class_labels \u001b[39m=\u001b[39m [sample[\u001b[39m-\u001b[39m\u001b[39m1\u001b[39m] \u001b[39mfor\u001b[39;00m sample \u001b[39min\u001b[39;00m k_nearest_neighbors]\n\u001b[1;32m     <a href='vscode-notebook-cell://wsl%2Bubuntu/home/pkhamchuai/codes/PatRecG/Program-HW2/HW-2-2.ipynb#X15sdnNjb2RlLXJlbW90ZQ%3D%3D?line=11'>12</a>\u001b[0m     predicted_label \u001b[39m=\u001b[39m \u001b[39mmax\u001b[39m(\u001b[39mset\u001b[39m(class_labels), key\u001b[39m=\u001b[39mclass_labels\u001b[39m.\u001b[39mcount)\n",
      "\u001b[1;32m/home/pkhamchuai/codes/PatRecG/Program-HW2/HW-2-2.ipynb Cell 11\u001b[0m line \u001b[0;36m4\n\u001b[1;32m     <a href='vscode-notebook-cell://wsl%2Bubuntu/home/pkhamchuai/codes/PatRecG/Program-HW2/HW-2-2.ipynb#X15sdnNjb2RlLXJlbW90ZQ%3D%3D?line=41'>42</a>\u001b[0m     test_sample_ \u001b[39m=\u001b[39m test_sample[:\u001b[39m-\u001b[39m\u001b[39m1\u001b[39m]\n\u001b[1;32m     <a href='vscode-notebook-cell://wsl%2Bubuntu/home/pkhamchuai/codes/PatRecG/Program-HW2/HW-2-2.ipynb#X15sdnNjb2RlLXJlbW90ZQ%3D%3D?line=42'>43</a>\u001b[0m     train_sample_features_ \u001b[39m=\u001b[39m train_sample_features[:\u001b[39m-\u001b[39m\u001b[39m1\u001b[39m]\n\u001b[0;32m---> <a href='vscode-notebook-cell://wsl%2Bubuntu/home/pkhamchuai/codes/PatRecG/Program-HW2/HW-2-2.ipynb#X15sdnNjb2RlLXJlbW90ZQ%3D%3D?line=43'>44</a>\u001b[0m     distance \u001b[39m=\u001b[39m \u001b[39mself\u001b[39;49m\u001b[39m.\u001b[39;49mlevenshtein_distance(test_sample_, train_sample_features_)\n\u001b[1;32m     <a href='vscode-notebook-cell://wsl%2Bubuntu/home/pkhamchuai/codes/PatRecG/Program-HW2/HW-2-2.ipynb#X15sdnNjb2RlLXJlbW90ZQ%3D%3D?line=44'>45</a>\u001b[0m     distances\u001b[39m.\u001b[39mappend((train_sample_features, distance))\n\u001b[1;32m     <a href='vscode-notebook-cell://wsl%2Bubuntu/home/pkhamchuai/codes/PatRecG/Program-HW2/HW-2-2.ipynb#X15sdnNjb2RlLXJlbW90ZQ%3D%3D?line=46'>47</a>\u001b[0m distances\u001b[39m.\u001b[39msort(key\u001b[39m=\u001b[39m\u001b[39mlambda\u001b[39;00m x: x[\u001b[39m1\u001b[39m])\n",
      "\u001b[1;32m/home/pkhamchuai/codes/PatRecG/Program-HW2/HW-2-2.ipynb Cell 11\u001b[0m line \u001b[0;36m3\n\u001b[1;32m     <a href='vscode-notebook-cell://wsl%2Bubuntu/home/pkhamchuai/codes/PatRecG/Program-HW2/HW-2-2.ipynb#X15sdnNjb2RlLXJlbW90ZQ%3D%3D?line=26'>27</a>\u001b[0m     \u001b[39mfor\u001b[39;00m j \u001b[39min\u001b[39;00m \u001b[39mrange\u001b[39m(\u001b[39m1\u001b[39m, \u001b[39mlen\u001b[39m(s2) \u001b[39m+\u001b[39m \u001b[39m1\u001b[39m):\n\u001b[1;32m     <a href='vscode-notebook-cell://wsl%2Bubuntu/home/pkhamchuai/codes/PatRecG/Program-HW2/HW-2-2.ipynb#X15sdnNjb2RlLXJlbW90ZQ%3D%3D?line=27'>28</a>\u001b[0m         cost \u001b[39m=\u001b[39m \u001b[39m0\u001b[39m \u001b[39mif\u001b[39;00m s1[i \u001b[39m-\u001b[39m \u001b[39m1\u001b[39m] \u001b[39m==\u001b[39m s2[j \u001b[39m-\u001b[39m \u001b[39m1\u001b[39m] \u001b[39melse\u001b[39;00m \u001b[39m1\u001b[39m\n\u001b[1;32m     <a href='vscode-notebook-cell://wsl%2Bubuntu/home/pkhamchuai/codes/PatRecG/Program-HW2/HW-2-2.ipynb#X15sdnNjb2RlLXJlbW90ZQ%3D%3D?line=28'>29</a>\u001b[0m         dp[i][j] \u001b[39m=\u001b[39m \u001b[39mmin\u001b[39m(\n\u001b[1;32m     <a href='vscode-notebook-cell://wsl%2Bubuntu/home/pkhamchuai/codes/PatRecG/Program-HW2/HW-2-2.ipynb#X15sdnNjb2RlLXJlbW90ZQ%3D%3D?line=29'>30</a>\u001b[0m             dp[i \u001b[39m-\u001b[39m \u001b[39m1\u001b[39m][j] \u001b[39m+\u001b[39m \u001b[39m1\u001b[39m,  \u001b[39m# Deletion\u001b[39;00m\n\u001b[0;32m---> <a href='vscode-notebook-cell://wsl%2Bubuntu/home/pkhamchuai/codes/PatRecG/Program-HW2/HW-2-2.ipynb#X15sdnNjb2RlLXJlbW90ZQ%3D%3D?line=30'>31</a>\u001b[0m             dp[i][j \u001b[39m-\u001b[39;49m \u001b[39m1\u001b[39;49m] \u001b[39m+\u001b[39m \u001b[39m1\u001b[39m,  \u001b[39m# Insertion\u001b[39;00m\n\u001b[1;32m     <a href='vscode-notebook-cell://wsl%2Bubuntu/home/pkhamchuai/codes/PatRecG/Program-HW2/HW-2-2.ipynb#X15sdnNjb2RlLXJlbW90ZQ%3D%3D?line=31'>32</a>\u001b[0m             dp[i \u001b[39m-\u001b[39m \u001b[39m1\u001b[39m][j \u001b[39m-\u001b[39m \u001b[39m1\u001b[39m] \u001b[39m+\u001b[39m cost  \u001b[39m# Substitution\u001b[39;00m\n\u001b[1;32m     <a href='vscode-notebook-cell://wsl%2Bubuntu/home/pkhamchuai/codes/PatRecG/Program-HW2/HW-2-2.ipynb#X15sdnNjb2RlLXJlbW90ZQ%3D%3D?line=32'>33</a>\u001b[0m         )\n\u001b[1;32m     <a href='vscode-notebook-cell://wsl%2Bubuntu/home/pkhamchuai/codes/PatRecG/Program-HW2/HW-2-2.ipynb#X15sdnNjb2RlLXJlbW90ZQ%3D%3D?line=34'>35</a>\u001b[0m \u001b[39m# The final value in the bottom-right corner of the matrix is the Levenshtein distance\u001b[39;00m\n\u001b[1;32m     <a href='vscode-notebook-cell://wsl%2Bubuntu/home/pkhamchuai/codes/PatRecG/Program-HW2/HW-2-2.ipynb#X15sdnNjb2RlLXJlbW90ZQ%3D%3D?line=35'>36</a>\u001b[0m \u001b[39mreturn\u001b[39;00m dp[\u001b[39mlen\u001b[39m(s1)][\u001b[39mlen\u001b[39m(s2)]\n",
      "\u001b[0;31mKeyboardInterrupt\u001b[0m: "
     ]
    }
   ],
   "source": [
    "# apply the classifier to the test data\n",
    "classifier = sgHCM(k=3)\n",
    "predictions = [classifier(test_sample, train_data) for test_sample in test_data]\n",
    "\n",
    "# print the predictions\n",
    "print(predictions)"
   ]
  },
  {
   "cell_type": "code",
   "execution_count": null,
   "metadata": {},
   "outputs": [],
   "source": []
  }
 ],
 "metadata": {
  "kernelspec": {
   "display_name": "tf",
   "language": "python",
   "name": "python3"
  },
  "language_info": {
   "codemirror_mode": {
    "name": "ipython",
    "version": 3
   },
   "file_extension": ".py",
   "mimetype": "text/x-python",
   "name": "python",
   "nbconvert_exporter": "python",
   "pygments_lexer": "ipython3",
   "version": "3.9.17"
  },
  "orig_nbformat": 4
 },
 "nbformat": 4,
 "nbformat_minor": 2
}
